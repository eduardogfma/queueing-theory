{
 "cells": [
  {
   "cell_type": "markdown",
   "id": "5a1394cf",
   "metadata": {},
   "source": [
    "# Blocked Customers Cleared\n",
    "\n",
    "This notebook is a solution of the [Homework 1](http://www.cse.fau.edu/%7Ebob/courses/map6264/MAP6264_HW1.pdf) of the [MAP 6264:Queueing Theory](http://www.cse.fau.edu/~bob/courses/map6264/) course. The interested reader can refer to the following resources:\n",
    "\n",
    "- [Online course](https://www.youtube.com/watch?v=AsTuNP0N7DU&list=PL59NBu6N8dUqYClaKpoozyzK3Kpcm5eou&index=1)\n",
    "- [Course page](http://www.cse.fau.edu/~bob/courses/map6264/)"
   ]
  },
  {
   "cell_type": "markdown",
   "id": "bf200ae5",
   "metadata": {},
   "source": [
    "## Theoretical Introduction\n",
    "\n",
    "Consider a system comprised of $j$ customers who compete against each other for some limited resources $s$ called servers. \n",
    "The system is said to be in state $E_{j}~(j=0,1,...,s)$ when the number of customers in the system is $j$.\n",
    "\n",
    "Let $P_{j}$ be the proportion of time that the system spends in state $E_{j}$ (i.e. the proportion of time that $j \\leq s$ servers are busy serving $j$ customers).\n",
    "\n",
    "Denoting the _customer arrival rate_ (i.e. the average number of arrivals per unit time) by $\\lambda$ yields, \n",
    "\n",
    "$$\\lambda P_{j} = E_{j} \\rightarrow E_{j+1}, \\quad j=0,1,...,s-1,$$\n",
    "\n",
    "where $E_{j} \\rightarrow E_{j+1}$ is the rate at which the transition from state $E_{j}$ to state $E_{j+1}$ occurs. Note that letting $j=s$ would imply a transition to the impossible state $E_{s+1}$ (i.e. $E_{j} \\rightarrow E_{j+1} = E_{s} \\rightarrow E_{s+1}, \\quad j=s$)."
   ]
  },
  {
   "cell_type": "code",
   "execution_count": null,
   "id": "e01307bf",
   "metadata": {},
   "outputs": [],
   "source": []
  }
 ],
 "metadata": {
  "kernelspec": {
   "display_name": "Python 3",
   "language": "python",
   "name": "python3"
  },
  "language_info": {
   "codemirror_mode": {
    "name": "ipython",
    "version": 3
   },
   "file_extension": ".py",
   "mimetype": "text/x-python",
   "name": "python",
   "nbconvert_exporter": "python",
   "pygments_lexer": "ipython3",
   "version": "3.8.8"
  }
 },
 "nbformat": 4,
 "nbformat_minor": 5
}
