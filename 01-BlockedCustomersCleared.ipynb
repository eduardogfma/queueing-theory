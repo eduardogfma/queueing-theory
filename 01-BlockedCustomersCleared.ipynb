{
 "cells": [
  {
   "cell_type": "markdown",
   "id": "dae89b8b",
   "metadata": {},
   "source": [
    "# Blocked Customers Cleared\n",
    "\n",
    "This notebook is a solution of the [Homework 1](http://www.cse.fau.edu/%7Ebob/courses/map6264/MAP6264_HW1.pdf) of the [MAP 6264:Queueing Theory](http://www.cse.fau.edu/~bob/courses/map6264/) course. The interested reader can refer to the following resources:\n",
    "\n",
    "- [Online course](https://www.youtube.com/watch?v=AsTuNP0N7DU&list=PL59NBu6N8dUqYClaKpoozyzK3Kpcm5eou&index=1)\n",
    "- [Course page](http://www.cse.fau.edu/~bob/courses/map6264/)"
   ]
  },
  {
   "cell_type": "markdown",
   "id": "46f994de",
   "metadata": {},
   "source": [
    "## 1.Theoretical Introduction\n",
    "\n",
    "\n",
    "Consider a system comprised of $s$ servers. Customers compete with each other over a limited number of servers in the following way: when approaching the system, if there is an available server, customer $j$ enters the system and consumes/occupies it, otherwise goes away.\n",
    "\n",
    "The system is said to be in state $E_{j}~(j=0,1,...,s)$ when the number of customers in the system is $j$.\n",
    "\n",
    "Let $P_{j}$ be the proportion of time that the system spends in state $E_{j}$ (i.e. the proportion of time that $j \\leq s$ servers are busy serving $j$ customers).\n",
    "\n",
    "Denoting the _customer arrival rate_ (i.e. the average number of arrivals per unit time) by $\\lambda$ yields, \n",
    "\n",
    "$$\\lambda P_{j} = E_{j} \\rightarrow E_{j+1}, \\quad j=0,1,...,s-1,$$\n",
    "\n",
    "where $E_{j} \\rightarrow E_{j+1}$ is the rate at which the transition from state $E_{j}$ to state $E_{j+1}$ occurs. Note that letting $j=s$ would imply a transition to the impossible state $E_{s+1}$ (i.e. $E_{j} \\rightarrow E_{j+1} = E_{s} \\rightarrow E_{s+1}, \\quad j=s$).\n",
    "\n",
    "Let $\\tau$ be the _mean holding time_ of a server by a single customer (i.e. average length of time a customer holds a server). Conversely, if $\\tau$ expresses 'unit time/customer', the termination rate for a single customer is given by $1/\\tau$ ([customer/unit time]). Similarly, the termination rate for two simultaneous customers is given by $2 \\times \\frac{1}{\\tau} = \\frac{2}{\\tau}$. Then, by this reasoning, the termination rate for $j+1$ simulataneous customers is therefore $\\frac{(j+1)}{\\tau}$.\n",
    "\n",
    "Considering that the system is in state $E_{j+1}$ for a proportion of time $P_{j+1}$, on can right the following\n",
    "\n",
    "$$E_{j+1} \\rightarrow E_{j} = \\frac{j+1}{\\tau}P_{j+1}, \\quad j=0,1,...,s-1,$$\n",
    "\n",
    "which can be read as \"the downward transition $E_{j+1} \\rightarrow E_{j}$ occurs at rate $\\frac{j+1}{\\tau}P_{j+1}$ transitions per unit time\".\n",
    "\n",
    "Considering that the system working in steady state corresponds to the situation where the number of incomming customers equals the outgoing ones, one can write the following:\n",
    "\n",
    "$$E_{j} \\rightarrow E_{j+1} = E_{j+1} \\rightarrow E_{j}, \\quad j=0,1,...,s-1$$\n",
    "\n",
    "$$\\lambda P_{j} = \\frac{j+1}{\\tau}P_{j+1}, \\quad j=0,1,...,s-1$$\n",
    "\n",
    "Solving the previous equations recurrently yields,\n",
    "\n",
    "$$P_{j} = \\frac{(\\lambda\\tau)^j}{j!}P_{j+1}, \\quad j=1,2,...,s.$$\n",
    "\n",
    "In turn, since the numbers $\\{P_{j}\\}$ are proportions, they must sum to unity:\n",
    "\n",
    "$$P_{0}+P_{1}+...+P_{s} = 1.$$\n",
    "\n",
    "Using the last two equations, one can determine $P_{0}:$\n",
    "\n",
    "$$P_{0} = \\left( \\sum_{k=0}^{s}\\frac{(\\lambda\\tau)^k}{k!} \\right)^{-1}.$$\n",
    "\n",
    "Thus, the proportion $P_{j}$ of time that $j$ servers are busy is given by\n",
    "\n",
    "$$P_{j} = \\frac{(\\lambda\\tau)^{j}/j!}{\\sum_{k=0}^{s}(\\lambda\\tau)^{k}/k!}, \\quad j=0,1,...,s.$$\n",
    "\n",
    "An important observation to be made from the last formula is that the proportions $P_{j}$ depende on the arrival rate $\\lambda$ and mean holding time $\\tau$ only through the product $\\lambda\\tau$. This product is a measure of the demand made on the system; it is often called the _offered load_ and given the symbol $a$, i.e. $a=\\lambda/\\tau$. The numerical values are expressed in units called _erlangs_ (erl), after Danish mathematician and teletraffic theorist A. K. Erlang who first published the previous formula in 1917.\n",
    "\n",
    "When $j=s$, the right-hand side becomes the well-known _Erlang loss formula_, denoted in the USA by $B(s,a)$ and Europe be $E_{1,s}(a)$:\n",
    "\n",
    "$$B(s,a)=\\frac{a^{s}/s!}{\\sum_{k=0}^{s}a^{k}/k!}.$$\n",
    "\n",
    "____________\n",
    "\n",
    "### Notes\n",
    "\n",
    "There are two relationships whose interpretation is not trivial. Namely $P_{j}$ and $B(s,a)$.\n",
    "\n",
    "If $P_{j}$ represents the probability that the system is in state ${j}$, then writing $\\lambda P_{j}$ represents the state in which an arriving customer finds the system in state $j$. The implication of such an interpretation is that what drives the system to transition from state $j$ to $j+1$ are the customers that upon arrival find the system with at least one available server, since $\\lambda P_{j} = E_{j} \\rightarrow E_{j+1}, \\quad j=0,1,...,s-1$. Thus, $\\lambda P_{j}$ represents the point of view of a customer which upon arrival finds the system at state $j$. On the other hand, $E_{j+1} \\rightarrow E_{j} = \\frac{j+1}{\\tau}P_{j+1}$ represents the point of view from an external observer seeing customers leave the system as soon as they terminate. One may ask in which situations can these two points of view be said to be equal, but at the moment it suffices to say that for Poisson input it holds true according ti the PASTA theorem. Therefore, $B(s,a)$ is the probability of the system being blocked viewed either from an arriving customer or from an external observer."
   ]
  },
  {
   "cell_type": "markdown",
   "id": "67be32b5",
   "metadata": {},
   "source": [
    "## 2. Simulation Experiments\n",
    "\n",
    "The previous section presented a theretical system analysis. On one hand, no assumptions were made when developing the previous formulas, which seems to indicate that the results must describe the two stochastic processes at play. Namely, the arrival processes and the service times. On the other hand, by not (explicitly) including the stochasticity of any of those processes, it seems counterintuitive to believe that the probabilities which describe the states of the system do not depend on the variability of the random variables that drive the system. This leads to the following possibilities:\n",
    "\n",
    "1. The devised argument is wrong, i.e. the devised formulas do not describe the system;\n",
    "2. The argument is right, i.e. the conclusion is right but we did not fully understand the subtleties involved at each step;\n",
    "3. The argument is right under some conditions, i.e. there are situation in which the formulas are valid and describe the system.\n",
    "\n",
    "This document focuses on getting evidences to sustain the last point, i.e. that the argument is right under some conditions. In particular, it is shown that the devised formulas are valid for:\n",
    "\n",
    "- Poisson arrivals, i.e. the times between customer arrivals are exponentially distributed;\n",
    "- Any service time distribution, i.e. system is insensitive to service times.\n",
    "\n",
    "### 2.1. Experiment design\n",
    "\n",
    "To show that for Poisson arrivals the devised formulas return the same results independently of the service time distribution four cases are defined:\n",
    "\n",
    "1. Poisson arrivals, exponential service times;\n",
    "2. Poisson arrivals, constant service times;\n",
    "3. Constant interarrival times, exponential service times;\n",
    "4. Constant interarrival times, constant service times.\n",
    "\n",
    "Consider a system with $s=10$ servers in parallel. Let the inter arrival time $\\lambda=4$ and the service time $\\tau=2.4$ (so that the offered load is $4 \\times 2.4 = 9.6~erlangs$). \n",
    "\n",
    "For each case, it is required to compute the the probability of blocking via two different points of view:\n",
    "\n",
    "1. $P_{b}=\\frac{\\text{number of lost customers}}{\\text{total number of arrivals}}$,\n",
    "\n",
    "2. $P_{s}=\\frac{\\text{total amount of all busy time}}{\\text{total time simulated}}$.\n",
    "\n",
    "It is expected that the answers for cases 1 and 2 are equal."
   ]
  },
  {
   "cell_type": "markdown",
   "id": "89831d61",
   "metadata": {},
   "source": [
    "### 2.2. Implementation"
   ]
  },
  {
   "cell_type": "code",
   "execution_count": null,
   "id": "382e94d8",
   "metadata": {},
   "outputs": [],
   "source": []
  }
 ],
 "metadata": {
  "kernelspec": {
   "display_name": "Python 3",
   "language": "python",
   "name": "python3"
  },
  "language_info": {
   "codemirror_mode": {
    "name": "ipython",
    "version": 3
   },
   "file_extension": ".py",
   "mimetype": "text/x-python",
   "name": "python",
   "nbconvert_exporter": "python",
   "pygments_lexer": "ipython3",
   "version": "3.8.8"
  },
  "toc-showmarkdowntxt": false
 },
 "nbformat": 4,
 "nbformat_minor": 5
}
